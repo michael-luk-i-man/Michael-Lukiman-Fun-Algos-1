{
 "cells": [
  {
   "cell_type": "code",
   "execution_count": 7,
   "metadata": {
    "collapsed": false
   },
   "outputs": [],
   "source": [
    "array = [1,6,4,9,0,99]\n",
    "\n",
    "for pos in range(0,len(array)):\n",
    "    key = array[pos]\n",
    "    while array[pos-1]>key and pos>-1:\n",
    "        array[pos]=array[pos-1]\n",
    "        array[pos-1]=key\n",
    "        pos=pos-1"
   ]
  },
  {
   "cell_type": "code",
   "execution_count": 8,
   "metadata": {
    "collapsed": true
   },
   "outputs": [],
   "source": [
    "if len(array) % 2 == 1:\n",
    "    print('yes')\n",
    "print('yes')"
   ]
  }
 ],
 "metadata": {
  "kernelspec": {
   "display_name": "Python 3",
   "language": "python",
   "name": "python3"
  },
  "language_info": {
   "codemirror_mode": {
    "name": "ipython",
    "version": 3
   },
   "file_extension": ".py",
   "mimetype": "text/x-python",
   "name": "python",
   "nbconvert_exporter": "python",
   "pygments_lexer": "ipython3",
   "version": "3.4.0"
  }
 },
 "nbformat": 4,
 "nbformat_minor": 1
}
