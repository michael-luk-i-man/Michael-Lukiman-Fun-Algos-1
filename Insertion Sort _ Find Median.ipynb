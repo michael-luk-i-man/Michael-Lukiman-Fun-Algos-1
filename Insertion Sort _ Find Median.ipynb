{
 "cells": [
  {
   "cell_type": "code",
   "execution_count": 2,
   "metadata": {
    "collapsed": false
   },
   "outputs": [
    {
     "name": "stdout",
     "output_type": "stream",
     "text": [
      "key: 1\n",
      "-----------\n",
      "[1, 6, 4, 0]\n",
      "key: 4\n",
      "-----------\n",
      "[1, 4, 6, 0]\n",
      "key: 0\n",
      "-----------\n",
      "[1, 4, 0, 6]\n",
      "[1, 0, 4, 6]\n",
      "[0, 1, 4, 6]\n"
     ]
    }
   ],
   "source": [
    "#Courant Institute of Mathematical Scienes\n",
    "#code written by Michael Lukiman\n",
    "#any plagiarism will get you wrecked both directly and indirectly\n",
    "\n",
    "array = [6,1,4,0] # test array\n",
    "\n",
    "for j in range(1,len(array)):\n",
    "    key = array[j]\n",
    "    print('key: '+str(key))\n",
    "    i = j - 1\n",
    "    print('-----------')\n",
    "    while array[i]>key and i>-1:\n",
    "        array[i+1]=array[i]\n",
    "        array[i]=key\n",
    "        i=i-1\n",
    "        print(array)"
   ]
  },
  {
   "cell_type": "code",
   "execution_count": 66,
   "metadata": {
    "collapsed": false
   },
   "outputs": [
    {
     "name": "stdout",
     "output_type": "stream",
     "text": [
      "even\n",
      "median is 2.5\n",
      "[0, 1, 4, 6]\n"
     ]
    }
   ],
   "source": [
    "if len(array) % 2 == 1:\n",
    "    print('odd')\n",
    "    print('median is '+str(array[int((len(array)/2)-0.5)]))\n",
    "else:\n",
    "    print('even')\n",
    "    print('median is '+str( (array[int((len(array)/2) - 1)]+array[int((len(array)/2))]) / 2))\n",
    "print(array)\n"
   ]
  }
 ],
 "metadata": {
  "kernelspec": {
   "display_name": "Python 3",
   "language": "python",
   "name": "python3"
  },
  "language_info": {
   "codemirror_mode": {
    "name": "ipython",
    "version": 3
   },
   "file_extension": ".py",
   "mimetype": "text/x-python",
   "name": "python",
   "nbconvert_exporter": "python",
   "pygments_lexer": "ipython3",
   "version": "3.4.0"
  }
 },
 "nbformat": 4,
 "nbformat_minor": 1
}
